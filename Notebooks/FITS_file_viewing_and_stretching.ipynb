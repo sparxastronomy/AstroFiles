{
 "cells": [
  {
   "cell_type": "markdown",
   "metadata": {},
   "source": [
    "Importing important libraries:"
   ]
  },
  {
   "cell_type": "code",
   "execution_count": null,
   "metadata": {},
   "outputs": [],
   "source": [
    "import matplotlib.pyplot as plt\n",
    "from astropy.io import fits\n",
    "import astropy.visualization as viz\n",
    "import numpy as np"
   ]
  },
  {
   "cell_type": "markdown",
   "metadata": {},
   "source": [
    "Important step for inline interactive graphs and views"
   ]
  },
  {
   "cell_type": "code",
   "execution_count": null,
   "metadata": {},
   "outputs": [],
   "source": [
    "%matplotlib inline"
   ]
  },
  {
   "cell_type": "markdown",
   "metadata": {},
   "source": [
    "Next cell is for file loading: Replace **'image_name'** with path to the file excluding (' ')"
   ]
  },
  {
   "cell_type": "code",
   "execution_count": null,
   "metadata": {},
   "outputs": [],
   "source": [
    "try:\r\n",
    "    hdul=fits.open('image_name')\r\n",
    "except(ValueError,FileNotFoundError):\r\n",
    "    image_name=input(\"\\n file missing or empty file name !!! \\nPlease re-enter file name : \")\r\n",
    "    hdul=fits.open(image_name)"
   ]
  },
  {
   "cell_type": "markdown",
   "metadata": {},
   "source": [
    "Next 2 cells are for displaying the header units and selecting the header unit for viewing:\n",
    "In **2nd cell** replace **'header_unit_number'** by the index value of header unit you want to view from the left side after running the first cell."
   ]
  },
  {
   "cell_type": "code",
   "execution_count": null,
   "metadata": {},
   "outputs": [],
   "source": [
    "hdul.info()"
   ]
  },
  {
   "cell_type": "code",
   "execution_count": null,
   "metadata": {},
   "outputs": [],
   "source": [
    "img=hdul[header_unit_number].data\n",
    "#its a good practice if you don't need the FITS file for later use\n",
    "hdul.close() "
   ]
  },
  {
   "cell_type": "markdown",
   "metadata": {},
   "source": [
    "Next cells are for image stretching"
   ]
  },
  {
   "cell_type": "markdown",
   "metadata": {},
   "source": [
    "Run the below cell for image statistics and histogram which will help you decide values for next cells  \n",
    "*flatten funnction is used to get 1D data from 2D data to plot the histogram.*    \n",
    "***Look for ndarray.flatten()***"
   ]
  },
  {
   "cell_type": "code",
   "execution_count": null,
   "metadata": {},
   "outputs": [],
   "source": [
    "print('Min = ', np.min(img))\r\n",
    "print('Max = ', np.max(img))\r\n",
    "print('Mean = ', np.mean(img))\r\n",
    "print('Median = ',np.median(img))\r\n",
    "#hisogram\r\n",
    "histogram=plt.hist(img.flatten(),bins='auto')"
   ]
  },
  {
   "cell_type": "markdown",
   "metadata": {},
   "source": [
    "We backup the original data before applying any streching, this will help in easy comparision of the images."
   ]
  },
  {
   "cell_type": "code",
   "execution_count": null,
   "metadata": {},
   "outputs": [],
   "source": [
    "#backing up original data\r\n",
    "original = img"
   ]
  },
  {
   "cell_type": "markdown",
   "metadata": {},
   "source": [
    "### Logrithmic Stretch :\n",
    "Enter the value ***param*** for channging the base value for logrithmic stretch .  \n",
    "___________________________________________________________________________________________________________\n",
    "### Arcsine Stretch :  \n",
    "Enter the value of ***param*** for arcsine stretch and replace ``` *LogStretch*``` by `**AsinhStretch**`\n",
    "___________________________________________________________________________________________________________\n",
    "\n",
    "You should really refer to `*classes*` section of the [***Data Vizualization***](https://astropy.readthedocs.io/en/latest/visualization/index.html#classes) documentation for knowing more stretchs and intervals and for detremining the parameter.  \n",
    "Above two are the ones that I commonly use "
   ]
  },
  {
   "cell_type": "markdown",
   "metadata": {},
   "source": [
    "Replace Vmin and Vmax values from the above value by guessing, otherwise you can try the default value or replace **vmin=....vmax..** by min and maximum value.     \r\n",
    "*vmin* and *vmax* values determines the interval. Beyond the interval [*vmin*, *vmax*] all the values will be clipped. The default values displayes the entire range.           \r\n",
    "        \r\n",
    "Here we will create a log normalizing and then call it to stretch the data and view.  \r\n",
    "\r\n",
    "> * Run the first cell if you are stretching for the first time **or** you don't want to comapre with previously applied stretch  \r\n",
    "> * Run the second cell if you want to compare with previous stretching "
   ]
  },
  {
   "cell_type": "markdown",
   "metadata": {},
   "source": [
    "In the below cell, we first perfrom the *Logaritmic* stretch, and then one can perform a linear stretch as       \r\n",
    "$$\r\n",
    "y = \\frac{x - v_{min}}{v_{max} - v_{min}}\\times (2^{bit}-1)\r\n",
    "$$\r\n",
    "where *bit* is the image resolution like 8-bit, 16-bit , etc. for enhancing the dynamic range."
   ]
  },
  {
   "cell_type": "code",
   "execution_count": null,
   "metadata": {},
   "outputs": [],
   "source": [
    "(x_dim, y_dim) = np.shape(img) #getting dimension of the image\r\n",
    "bit = int(16) \r\n",
    "\r\n",
    "#enter the value of parameter first !!!\r\n",
    "#1000 is default for Log and 0.1 is default for Asinh\r\n",
    "param = 1000\r\n",
    "\r\n",
    "stretch = viz.LogStretch(param)         #defing the stretch function\r\n",
    "img = stretch(img)                      #image is transformed at this step\r\n",
    "\r\n",
    "\r\n",
    "plt.imshow(img , cmap = 'gray')\r\n",
    "plt.colorbar()\r\n"
   ]
  },
  {
   "cell_type": "code",
   "execution_count": null,
   "metadata": {},
   "outputs": [],
   "source": [
    "#enter the value of old parameter and new parameter first !!!\r\n",
    "#1000 is default for Log and 0.1 is default for Asinh\r\n",
    "old_param =\r\n",
    "new_param =\r\n",
    "\r\n",
    "stretch = viz.LogStretch(old_param)\r\n",
    "old_img = stretch(img)\r\n",
    "stretch = viz.LogStretch(new_param)\r\n",
    "new_img = stretch(img)\r\n",
    "\r\n",
    "plt.figure(1)\r\n",
    "plt.subplot(1,2,1)\r\n",
    "plt.imshow(old_img , cmap = 'gray' )\r\n",
    "plt.set_title('Old stretch')\r\n",
    "plt.subplot(1,2,2)\r\n",
    "plt.hist(old_img.flatten() , bins = 'auto')\r\n",
    "plt.set_title('Histogram of old data')\r\n",
    "\r\n",
    "plt.figure(2)\r\n",
    "plt.subplot(1,2,1)\r\n",
    "plt.imshow(new_img , cmap = 'gray')\r\n",
    "plt.set_title('New stretched image')\r\n",
    "plt.subplot(1,2,2)\r\n",
    "plt.hist(new_img.flatten() , bins = 'auto')\r\n",
    "plt.hist(new_img.flatten() , bins = 'auto')\r\n",
    "plt.set_title('Histogram of new data')\r\n",
    "\r\n",
    "plt.show()"
   ]
  },
  {
   "cell_type": "markdown",
   "metadata": {},
   "source": [
    "In this manner we can read a basic fits file and stretch it.  \n",
    "Run the next cell if you want to save the file as new **.fits** file.\n"
   ]
  },
  {
   "cell_type": "code",
   "execution_count": null,
   "metadata": {},
   "outputs": [],
   "source": [
    "#NOTE: new_imgae is not any pre_defined variable.  Replace that with the final image data with which you are satisfied.\r\n",
    "hdu = fits.PrimaryHDU(new_image)\r\n",
    "\r\n",
    "hdu.writeto('new.fits')"
   ]
  }
 ],
 "metadata": {
  "interpreter": {
   "hash": "caab8036b130eb143249c42b0aa56a8d82da604e5d2dfc0444361f9afbd9f68a"
  },
  "kernelspec": {
   "display_name": "Python 3.8.5 64-bit ('base': conda)",
   "name": "python3"
  },
  "language_info": {
   "name": "python",
   "version": ""
  }
 },
 "nbformat": 4,
 "nbformat_minor": 4
}