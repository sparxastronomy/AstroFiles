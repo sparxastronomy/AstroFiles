{
 "cells": [
  {
   "cell_type": "markdown",
   "metadata": {},
   "source": [
    "Importing important libraries:"
   ],
   "execution_count": null,
   "outputs": []
  },
  {
   "cell_type": "code",
   "execution_count": null,
   "metadata": {},
   "outputs": [],
   "source": [
    "import matplotlib.pyplot as plt\n",
    "from astropy.io import fits\n",
    "import astropy.visualization as viz\n",
    "import numpy as np"
   ]
  },
  {
   "cell_type": "markdown",
   "metadata": {},
   "source": [
    "Important step for inline interactive graphs and views"
   ],
   "execution_count": null,
   "outputs": []
  },
  {
   "cell_type": "code",
   "execution_count": null,
   "metadata": {},
   "outputs": [],
   "source": [
    "%matplotlib inline"
   ]
  },
  {
   "cell_type": "markdown",
   "metadata": {},
   "source": [
    "Next cell is for file loading: Replace **'image_name'** with path to the file excluding (' ')"
   ],
   "execution_count": null,
   "outputs": []
  },
  {
   "cell_type": "code",
   "execution_count": null,
   "metadata": {},
   "outputs": [],
   "source": [
    "try:\n",
    "    hdul=fits.open('image_name')\n",
    "except(ValueError,FileNotFoundError):\n",
    "    image_name=input(\"\\nfile missing or empty file name !!! \\nPlease re-enter file name : \")\n",
    "    hdul=fits.open(image_name)"
   ]
  },
  {
   "cell_type": "markdown",
   "metadata": {},
   "source": [
    "Next 2 cells are for displaying the header units and selecting the header unit for viewing:\n",
    "In **2nd cell** replace **'header_unit_number'** by the index value of header unit you want to view from the left side after running the first cell."
   ],
   "execution_count": null,
   "outputs": []
  },
  {
   "cell_type": "code",
   "execution_count": null,
   "metadata": {},
   "outputs": [],
   "source": [
    "hdul.info()"
   ]
  },
  {
   "cell_type": "code",
   "execution_count": null,
   "metadata": {},
   "outputs": [],
   "source": [
    "img=hdul[header_unit_number].data\n",
    "#its a good practice if you don't need the FITS file for later use\n",
    "hdul.close() "
   ]
  },
  {
   "cell_type": "markdown",
   "metadata": {},
   "source": [
    "Next cells are for image stretching"
   ],
   "execution_count": null,
   "outputs": []
  },
  {
   "cell_type": "markdown",
   "metadata": {},
   "source": [
    "Run the below cell for image statistics and histogram which will help you decide values for next cells  \n",
    "*flatten funnction is used to get 1D data from 2D data to plot the histogram.*    \n",
    "***Look for ndarray.flatten()***"
   ],
   "execution_count": null,
   "outputs": []
  },
  {
   "cell_type": "code",
   "execution_count": null,
   "metadata": {},
   "outputs": [],
   "source": [
    "print('Min = ', np.min(img))\n",
    "print('Max = ', np.max(img))\n",
    "print('Mean = ', np.mean(img))\n",
    "print('Median = ',np.median(img))\n",
    "#hisogram\n",
    "histogram=plt.hist(img.flatten(),bins='auto')"
   ]
  },
  {
   "cell_type": "markdown",
   "metadata": {},
   "source": [
    "### Logrithmic Stretch :\n",
    "Enter the value ***param*** for channging the base value for logrithmic stretch .  \n",
    "___________________________________________________________________________________________________________\n",
    "### Arcsine Stretch :  \n",
    "Enter the value of ***param*** for arcsine stretch and replace ``` *LogStretch*``` by `**AsinhStretch**`\n",
    "___________________________________________________________________________________________________________\n",
    "\n",
    "You should really refer to `*classes*` section of the [***Data Vizualization***](https://astropy.readthedocs.io/en/latest/visualization/index.html#classes) documentation for knowing more stretchs and intervals and for detremining the parameter.  \n",
    "Above two are the ones that I commonly use "
   ],
   "execution_count": null,
   "outputs": []
  },
  {
   "cell_type": "markdown",
   "metadata": {},
   "source": [
    "Replace Vmin and Vmax values from the above value by guessing, otherwise you can try the default value or replace **vmin=....vmax..** by ***interval=viz.MinMaxInterval()***  \n",
    "Here we will create a log normalizing and then call it to stretch the data and view.  \n",
    "\n",
    "> * Run the first cell if you are stretching for the first time **or** you don't want to comapre with previously applied stretch  \n",
    "> * Run the second cell if you want to compare with previous stretching "
   ],
   "execution_count": null,
   "outputs": []
  },
  {
   "cell_type": "code",
   "execution_count": null,
   "metadata": {},
   "outputs": [],
   "source": [
    "#backing up original data\n",
    "temp = img\n",
    "type(img)\n",
    "\n",
    "#enter the value of parameter first !!!\n",
    "#1000 is default for Log and 0.1 is default for Asinh\n",
    "param =1000\n",
    "\n",
    "norm = viz.ImageNormalize(img , vmin = ((np.median(img))**2-abs(np.min(img))) , vmax = np.max(img) , stretch = viz.LogStretch(param))\n",
    "plt.imshow(img , cmap = 'gray' , norm = norm)\n",
    "plt.colorbar()\n",
    "plt.show()\n",
    "\n",
    "img = norm(img)"
   ]
  },
  {
   "cell_type": "code",
   "execution_count": null,
   "metadata": {},
   "outputs": [],
   "source": [
    "#enter the value of old parameter and new parameter first !!!\n",
    "#1000 is default for Log and 0.1 is default for Asinh\n",
    "old_param =\n",
    "new_param =\n",
    "norm_old = viz.ImageNormalize(img,vmin=((np.median(img))**2-abs(np.min(img))),vmax=np.max(img),stretch=viz.LogStretch(old_param))\n",
    "norm_new = viz.ImageNormalize(img,vmin=((np.median(img))**2-abs(np.min(img))),vmax=np.max(img),stretch=viz.LogStretch(new_param))\n",
    "\n",
    "old_img=old_norm(temp)\n",
    "new_img=new_norm(temp)\n",
    "\n",
    "plt.figure(1)\n",
    "plt.subplot(1,2,1)\n",
    "plt.imshow(old_img , cmap = 'gray' )\n",
    "plt.set_title('Old stretch')\n",
    "plt.subplot(1,2,2)\n",
    "plt.hist(old_img.flatten() , bins = 'auto')\n",
    "plt.set_title('Histogram of old data')\n",
    "\n",
    "plt.figure(2)\n",
    "plt.subplot(1,2,1)\n",
    "plt.imshow(new_img , cmap = 'gray')\n",
    "plt.set_title('New stretched image')\n",
    "plt.subplot(1,2,2)\n",
    "plt.hist(new_img.flatten() , bins = 'auto')\n",
    "plt.hist(new_img.flatten() , bins = 'auto')\n",
    "plt.set_title('Histogram of new data')\n",
    "\n",
    "plt.show()"
   ]
  },
  {
   "cell_type": "markdown",
   "metadata": {},
   "source": [
    "Next cell is not for everyone, only those who wants fine adjustment to the black and white levels should use it.    \n",
    "Next cell is based on simple linear stretching that replicates DS9 Levels adjustment.   \n",
    "You only need to tweak the ***vmin*** and ***vmax*** for that  \n",
    "\n",
    "\n",
    "> *Run first cell first to have a look at the old data and decidide the black and whitepoints from the histogram*\n",
    "> *You can run the statistics too after copying from 4th cell to here for help*\n",
    "\n",
    "\n",
    "> *Run the second cell then to for fine adjustments*"
   ],
   "execution_count": null,
   "outputs": []
  },
  {
   "cell_type": "code",
   "execution_count": null,
   "metadata": {},
   "outputs": [],
   "source": [
    "fine_old_img=new_img\n",
    "\n",
    "#if you don't need to apply any stretch then remove the two lines below.\n",
    "norm_old = viz.ImageNormalize(img,vmin=,vmax=)\n",
    "fine_old_img=old_norm(temp)\n",
    "\n",
    "\n",
    "plt.figure(1)\n",
    "plt.subplot(1,2,1)\n",
    "plt.imshow(fine_old_img , cmap = 'gray' )\n",
    "plt.set_title('Old stretch')\n",
    "plt.subplot(1,2,2)\n",
    "plt.hist(fine_old_img.flatten() , bins = 'auto')\n",
    "plt.set_title('Histogram of old data')\n"
   ]
  },
  {
   "cell_type": "code",
   "execution_count": null,
   "metadata": {},
   "outputs": [],
   "source": [
    "norm_new = viz.ImageNormalize(img,vmin=,vmax=)\n",
    "fine_new_img=new_norm(fine_old_img)\n",
    "\n",
    "plt.subplot(1,2,1)\n",
    "plt.imshow(new_img , cmap = 'gray')\n",
    "plt.set_title('New stretched image')\n",
    "plt.subplot(1,2,2)\n",
    "plt.hist(fine_new_img.flatten() , bins = 'auto')\n",
    "plt.hist(fine_new_img.flatten() , bins = 'auto')\n",
    "plt.set_title('Histogram of new data')"
   ]
  },
  {
   "cell_type": "markdown",
   "metadata": {},
   "source": [
    "In this manner we can read a basic fits file and stretch it.  \n",
    "Run the next cell if you want to save the file as new **.fits** file.\n"
   ],
   "execution_count": null,
   "outputs": []
  },
  {
   "cell_type": "code",
   "execution_count": null,
   "metadata": {},
   "outputs": [],
   "source": [
    "hdu = fits.PrimaryHDU(fine_new_img)\n",
    "hdu.writeto('new.fits')"
   ]
  }
 ],
 "metadata": {
  "kernelspec": {
   "display_name": "Python 3",
   "language": "python",
   "name": "python3"
  },
  "language_info": {
   "codemirror_mode": {
    "name": "ipython",
    "version": 3
   },
   "file_extension": ".py",
   "mimetype": "text/x-python",
   "name": "python",
   "nbconvert_exporter": "python",
   "pygments_lexer": "ipython3",
   "version": "3.7.7"
  }
 },
 "nbformat": 4,
 "nbformat_minor": 4
}